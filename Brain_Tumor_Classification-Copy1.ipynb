{
 "cells": [
  {
   "cell_type": "markdown",
   "id": "140772fb",
   "metadata": {},
   "source": [
    "## Importing Libraries"
   ]
  },
  {
   "cell_type": "code",
   "execution_count": 1,
   "id": "75417f60",
   "metadata": {},
   "outputs": [],
   "source": [
    "# Data Manipulation\n",
    "import numpy as np\n",
    "import pandas as pd\n",
    "\n",
    "# Data preprocessing \n",
    "#from tensorflow.keras.preprocessing.image import ImageDataGenerator\n",
    "from sklearn.model_selection import train_test_split\n",
    "from sklearn.utils import shuffle\n",
    "from PIL import Image, ImageEnhance\n",
    "\n",
    "# For Data Visualization\n",
    "import matplotlib.pyplot as plt\n",
    "import seaborn as sns\n",
    "%matplotlib inline\n",
    "\n",
    "\n",
    "#Data Evaluation\n",
    "from sklearn.metrics import confusion_matrix\n",
    "from sklearn.metrics import classification_report\n",
    "\n",
    "# For ML Models\n",
    "from tensorflow import keras\n",
    "from tensorflow.keras.layers import *\n",
    "from tensorflow.keras.losses import *\n",
    "from tensorflow.keras.models import *\n",
    "from tensorflow.keras.metrics import *\n",
    "from tensorflow.keras.optimizers import *\n",
    "from tensorflow.keras.applications import *\n",
    "from tensorflow.keras.preprocessing.image import *\n",
    "from tensorflow.keras.callbacks import EarlyStopping, ModelCheckpoint\n",
    "\n",
    "\n",
    "# Miscellaneous\n",
    "from tqdm import tqdm\n",
    "import os\n",
    "import random"
   ]
  },
  {
   "cell_type": "markdown",
   "id": "a33e99e2",
   "metadata": {},
   "source": [
    "## Reading the Data"
   ]
  },
  {
   "cell_type": "code",
   "execution_count": 2,
   "id": "a7f2c195",
   "metadata": {},
   "outputs": [],
   "source": [
    "def read_dataset(data_path):\n",
    "    data = []\n",
    "\n",
    "    for label in os.listdir(data_path):\n",
    "        real_label = \"\"\n",
    "        if label in ['pituitary_tumor', 'pituitary']: \n",
    "            real_label = 'pituitary'\n",
    "        elif label in ['no_tumor', 'notumor']:\n",
    "            real_label = 'notumor'\n",
    "        elif label in ['meningioma', 'meningioma_tumor']:\n",
    "            real_label = 'meningioma'\n",
    "        elif label in ['glioma', 'glioma_tumor']:\n",
    "            real_label = 'glioma'\n",
    "        for image in os.listdir(os.path.join(data_path,label)):\n",
    "            data.append([os.path.join(data_path,label,image),real_label])\n",
    "            \n",
    "    return data"
   ]
  },
  {
   "cell_type": "code",
   "execution_count": 15,
   "id": "9b5a9814",
   "metadata": {},
   "outputs": [
    {
     "name": "stdout",
     "output_type": "stream",
     "text": [
      "training image number: 394\n"
     ]
    }
   ],
   "source": [
    "image_data_paths = \"C:\\\\Users\\\\tmost\\\\Documents\\\\Data-course\\\\Brain\"\n",
    "train_dir = os.path.join(image_data_paths,\"Training\")\n",
    "test_dir = os.path.join(image_data_paths,\"Testing\")\n",
    "\n",
    "test_paths = []\n",
    "test_labels = []\n",
    "\n",
    "for label in os.listdir(test_dir):\n",
    "    real_label = \"\"\n",
    "    if label in ['pituitary_tumor', 'pituitary']: \n",
    "        real_label = 'pituitary'\n",
    "    elif label in ['no_tumor', 'notumor']:\n",
    "        real_label = 'notumor'\n",
    "    elif label in ['meningioma', 'meningioma_tumor']:\n",
    "        real_label = 'meningioma'\n",
    "    elif label in ['glioma', 'glioma_tumor']:\n",
    "        real_label = 'glioma'\n",
    "    for image in os.listdir(os.path.join(test_dir,label)):\n",
    "        test_paths.append(os.path.join(test_dir,label,image))\n",
    "        test_labels.append(real_label)\n",
    "\n",
    "test_paths, test_labels = shuffle(test_paths, test_labels)\n",
    "\n",
    "print(f'training image number: {len(test_paths)}')"
   ]
  },
  {
   "cell_type": "markdown",
   "id": "7945bbd8",
   "metadata": {},
   "source": [
    "## Setting the Base Directory and Subdirectories:"
   ]
  },
  {
   "cell_type": "code",
   "execution_count": 3,
   "id": "63733d99",
   "metadata": {},
   "outputs": [
    {
     "name": "stdout",
     "output_type": "stream",
     "text": [
      "training image number: 2870\n",
      "test image number: 394\n"
     ]
    }
   ],
   "source": [
    "image_data_paths = \"C:\\\\Users\\\\tmost\\\\Documents\\\\Data-course\\\\Brain\" # base directory where the brain image data is located\n",
    "train_dir = os.path.join(image_data_paths,\"Training\")\n",
    "test_dir = os.path.join(image_data_paths,\"Testing\")\n",
    "\n",
    "\n",
    "train_data = shuffle(read_dataset(train_dir))\n",
    "print(f'training image number: {len(train_data)}')\n",
    "\n",
    "test_data = read_dataset(test_dir)\n",
    "print(f'test image number: {len(test_data)}')"
   ]
  },
  {
   "cell_type": "code",
   "execution_count": 4,
   "id": "e6cb5ff2",
   "metadata": {},
   "outputs": [
    {
     "data": {
      "text/html": [
       "<div>\n",
       "<style scoped>\n",
       "    .dataframe tbody tr th:only-of-type {\n",
       "        vertical-align: middle;\n",
       "    }\n",
       "\n",
       "    .dataframe tbody tr th {\n",
       "        vertical-align: top;\n",
       "    }\n",
       "\n",
       "    .dataframe thead th {\n",
       "        text-align: right;\n",
       "    }\n",
       "</style>\n",
       "<table border=\"1\" class=\"dataframe\">\n",
       "  <thead>\n",
       "    <tr style=\"text-align: right;\">\n",
       "      <th></th>\n",
       "      <th>image_filepaths</th>\n",
       "      <th>tumor_class</th>\n",
       "    </tr>\n",
       "  </thead>\n",
       "  <tbody>\n",
       "    <tr>\n",
       "      <th>0</th>\n",
       "      <td>C:\\Users\\tmost\\Documents\\Data-course\\Brain\\Tra...</td>\n",
       "      <td>notumor</td>\n",
       "    </tr>\n",
       "    <tr>\n",
       "      <th>1</th>\n",
       "      <td>C:\\Users\\tmost\\Documents\\Data-course\\Brain\\Tra...</td>\n",
       "      <td>pituitary</td>\n",
       "    </tr>\n",
       "    <tr>\n",
       "      <th>2</th>\n",
       "      <td>C:\\Users\\tmost\\Documents\\Data-course\\Brain\\Tra...</td>\n",
       "      <td>pituitary</td>\n",
       "    </tr>\n",
       "    <tr>\n",
       "      <th>3</th>\n",
       "      <td>C:\\Users\\tmost\\Documents\\Data-course\\Brain\\Tra...</td>\n",
       "      <td>meningioma</td>\n",
       "    </tr>\n",
       "    <tr>\n",
       "      <th>4</th>\n",
       "      <td>C:\\Users\\tmost\\Documents\\Data-course\\Brain\\Tra...</td>\n",
       "      <td>glioma</td>\n",
       "    </tr>\n",
       "  </tbody>\n",
       "</table>\n",
       "</div>"
      ],
      "text/plain": [
       "                                     image_filepaths tumor_class\n",
       "0  C:\\Users\\tmost\\Documents\\Data-course\\Brain\\Tra...     notumor\n",
       "1  C:\\Users\\tmost\\Documents\\Data-course\\Brain\\Tra...   pituitary\n",
       "2  C:\\Users\\tmost\\Documents\\Data-course\\Brain\\Tra...   pituitary\n",
       "3  C:\\Users\\tmost\\Documents\\Data-course\\Brain\\Tra...  meningioma\n",
       "4  C:\\Users\\tmost\\Documents\\Data-course\\Brain\\Tra...      glioma"
      ]
     },
     "execution_count": 4,
     "metadata": {},
     "output_type": "execute_result"
    }
   ],
   "source": [
    "train_data = pd.DataFrame(train_data, columns = ['image_filepaths', 'tumor_class']).sample(frac = 1, random_state = 42).reset_index(drop = True)\n",
    "train_data.head()"
   ]
  },
  {
   "cell_type": "markdown",
   "id": "f0c3c43e",
   "metadata": {},
   "source": [
    "## Data Visualization Distribution for each class"
   ]
  },
  {
   "cell_type": "code",
   "execution_count": 14,
   "id": "dae93103",
   "metadata": {},
   "outputs": [
    {
     "data": {
      "image/png": "[encoded data removed]",
      "text/plain": [
       "<Figure size 800x600 with 1 Axes>"
      ]
     },
     "metadata": {},
     "output_type": "display_data"
    }
   ],
   "source": [
    "label_counts = train_data['tumor_class'].value_counts().to_dict()  # Count occurrences of each label\n",
    "total_count = sum(label_counts.values())  \n",
    "label_percentages = {label: count / total_count * 100 for label, count in label_counts.items()}  \n",
    "\n",
    "# Create a pie chart\n",
    "plt.figure(figsize=(8, 6))\n",
    "colors = ['seagreen', 'dimgray', 'slategrey', 'lightgray']\n",
    "explode = (0, 0,0,0.1) #Explode the 1st slice (optional, for emphasis)\n",
    "plt.pie(label_percentages.values(), labels=label_percentages.keys(), autopct='%1.1f%%', startangle=140, colors=colors, explode=explode)\n",
    "\n",
    "plt.axis('equal')  # Equal aspect ratio ensures that pie is drawn as a circle.\n",
    "plt.title('Tumor Distribution Percentage',weight='bold')\n",
    "plt.show()"
   ]
  },
  {
   "cell_type": "code",
   "execution_count": 16,
   "id": "d2e01c69",
   "metadata": {},
   "outputs": [
    {
     "name": "stdout",
     "output_type": "stream",
     "text": [
      "<class 'pandas.core.frame.DataFrame'>\n",
      "RangeIndex: 394 entries, 0 to 393\n",
      "Data columns (total 2 columns):\n",
      " #   Column           Non-Null Count  Dtype \n",
      "---  ------           --------------  ----- \n",
      " 0   image_filepaths  394 non-null    object\n",
      " 1   tumor_class      394 non-null    object\n",
      "dtypes: object(2)\n",
      "memory usage: 6.3+ KB\n"
     ]
    }
   ],
   "source": [
    "test_data = pd.DataFrame(test_data, columns = ['image_filepaths', 'tumor_class']).sample(frac = 1, random_state = 42).reset_index(drop = True)\n",
    "test_data.info()"
   ]
  },
  {
   "cell_type": "code",
   "execution_count": 21,
   "id": "79eda8c5",
   "metadata": {},
   "outputs": [
    {
     "data": {
      "text/plain": [
       "{'meningioma': 29.187817258883246,\n",
       " 'notumor': 26.649746192893403,\n",
       " 'glioma': 25.380710659898476,\n",
       " 'pituitary': 18.781725888324875}"
      ]
     },
     "execution_count": 21,
     "metadata": {},
     "output_type": "execute_result"
    }
   ],
   "source": [
    "label_counts = test_data['tumor_class'].value_counts().to_dict()  # Count occurrences of each label\n",
    "total_count = sum(label_counts.values())  \n",
    "label_percentages = {label: count / total_count * 100 for label, count in label_counts.items()}  \n",
    "label_percentages"
   ]
  },
  {
   "cell_type": "code",
   "execution_count": 18,
   "id": "44e5f8aa",
   "metadata": {},
   "outputs": [
    {
     "data": {
      "image/png": "[encoded data removed]",
      "text/plain": [
       "<Figure size 800x600 with 1 Axes>"
      ]
     },
     "metadata": {},
     "output_type": "display_data"
    }
   ],
   "source": [
    "label_counts = test_data['tumor_class'].value_counts().to_dict()  # Count occurrences of each label\n",
    "total_count = sum(label_counts.values())  \n",
    "label_percentages = {label: count / total_count * 100 for label, count in label_counts.items()}  \n",
    "\n",
    "# Create a pie chart\n",
    "plt.figure(figsize=(8, 6))\n",
    "colors = ['seagreen', 'dimgray', 'slategrey', 'lightgray']\n",
    "explode = (0, 0,0,0.1) #Explode the 1st slice (optional, for emphasis)\n",
    "plt.pie(label_percentages.values(), labels=label_percentages.keys(), autopct='%1.1f%%', startangle=140, colors=colors, explode=explode)\n",
    "\n",
    "plt.axis('equal')  # Equal aspect ratio ensures that pie is drawn as a circle.\n",
    "plt.title('Tumor Distribution Percentage',weight='bold')\n",
    "plt.show()"
   ]
  },
  {
   "cell_type": "code",
   "execution_count": null,
   "id": "612fd7be",
   "metadata": {},
   "outputs": [],
   "source": [
    "train_data, val_data = train_test_split(train_data, \n",
    "                                               train_size = 0.80, \n",
    "                                               random_state = 42, \n",
    "                                               stratify = train_data.tumor_class)"
   ]
  },
  {
   "cell_type": "code",
   "execution_count": null,
   "id": "c0399db4",
   "metadata": {},
   "outputs": [],
   "source": [
    "train_data.shape"
   ]
  },
  {
   "cell_type": "code",
   "execution_count": null,
   "id": "03fd338a",
   "metadata": {},
   "outputs": [],
   "source": [
    "test_data.shape"
   ]
  },
  {
   "cell_type": "code",
   "execution_count": null,
   "id": "c3b4fc1b",
   "metadata": {},
   "outputs": [],
   "source": []
  },
  {
   "cell_type": "markdown",
   "id": "aed6dfba",
   "metadata": {},
   "source": [
    "## Data Agumentation"
   ]
  },
  {
   "cell_type": "markdown",
   "id": "e629b987",
   "metadata": {},
   "source": [
    "- Image augmentation is usually used to increase the image dataset and also to make the network more robust against translation invariance. \n",
    "\n",
    "\n",
    "\n",
    "- Image augmentation is defined as creating duplicates of the original image datasets by flipping, rotating, zooming, and adjusting brightness."
   ]
  },
  {
   "cell_type": "markdown",
   "id": "39e54d5d",
   "metadata": {},
   "source": [
    "- Convert from NumPy to PIL\n",
    "\n",
    "- Enhance Brightness and contrast\n",
    "\n",
    "- After PIL transformation, Convert back to NumPy array and pixel are normalized "
   ]
  },
  {
   "cell_type": "markdown",
   "id": "aed4652e",
   "metadata": {},
   "source": [
    "def augment_image(image):\n",
    "    image = Image.fromarray(np.uint8(image)) #convert this NumPy array to a PIL Image(python image library), unit8[0-255]\n",
    "    image = ImageEnhance.Brightness(image).enhance(random.uniform(0.8,1.2)) \n",
    "    image = ImageEnhance.Contrast(image).enhance(random.uniform(0.8,1.2))\n",
    "    image = np.array(image)/255.0  # converted back to  NumPy array and Normalize\n",
    "    return image"
   ]
  },
  {
   "cell_type": "markdown",
   "id": "2cc04cad",
   "metadata": {},
   "source": [
    "def augment_image(image):\n",
    "    # Convert NumPy array to a PIL Image\n",
    "    #image = Image.fromarray(np.uint8(image))\n",
    "    \n",
    "    # Apply Keras-style augmentations\n",
    "    image = image.rotate(random.uniform(-15, 15))\n",
    "    image = image.transpose(method = Image.FLIP_LEFT_RIGHT) if random.choice([True, False]) else image\n",
    "    #image = image.transpose(method = Image.FLIP_TOP_BOTTOM) if random.choice([True, False]) else image\n",
    "    \n",
    "    # Apply additional custom augmentations\n",
    "    image = ImageEnhance.Brightness(image).enhance(random.uniform(0.3, 1.5))\n",
    "    image = ImageEnhance.Contrast(image).enhance(random.uniform(0.3, 1.5))\n",
    "    \n",
    "    \n",
    "\n",
    "  \n",
    "    \n",
    "    return image"
   ]
  },
  {
   "cell_type": "markdown",
   "id": "4687d0f9",
   "metadata": {},
   "source": [
    "IMAGE_SIZE = 128\n",
    "\n",
    "def open_images(paths, aug=False):\n",
    "    '''\n",
    "    Given a list of paths to images, this function returns the images as arrays (after augmenting them)\n",
    "    '''\n",
    "    images = []\n",
    "    for path in paths:\n",
    "        image = load_img(path, target_size=(IMAGE_SIZE,IMAGE_SIZE))  #load and resize\n",
    "        if aug:\n",
    "            image = augment_image(image) # apply data augmentation to each image\n",
    "        # Convert to NumPy array and normalize\n",
    "        image = np.array(image) / 255.0\n",
    "        images.append(image) #append the augumented image to the image list\n",
    "    return np.array(images)  #return an array\n",
    "\n",
    "images = open_images(train_paths[11:20])\n",
    "labels = train_labels[50:59]\n",
    "fig = plt.figure(figsize=(12, 6))\n",
    "for x in range(1, 9):\n",
    "    fig.add_subplot(2, 4, x)\n",
    "    plt.axis('off')\n",
    "    plt.title(labels[x])\n",
    "    plt.imshow(images[x])\n",
    "plt.rcParams.update({'font.size': 12})\n",
    "plt.show()"
   ]
  },
  {
   "cell_type": "code",
   "execution_count": null,
   "id": "f327d96a",
   "metadata": {},
   "outputs": [],
   "source": [
    "image_size = 128\n",
    "batch_size = 32\n",
    "\n",
    "train_image_datagen_kwargs = dict(rescale = 1 / 255,\n",
    "                                rotation_range = 15, \n",
    "                                width_shift_range = 0.1, \n",
    "                                zoom_range = 0.01, \n",
    "                                shear_range = 0.01,\n",
    "                                brightness_range = [0.3, 1.5],\n",
    "                                horizontal_flip = True,\n",
    "                                vertical_flip = True)\n",
    "\n",
    "test_image_datagen_kwargs = dict(rescale = 1 / 255)"
   ]
  },
  {
   "cell_type": "code",
   "execution_count": null,
   "id": "225ecb79",
   "metadata": {},
   "outputs": [],
   "source": [
    "train_image_datagen = ImageDataGenerator(**train_image_datagen_kwargs)\n",
    "val_image_datagen = ImageDataGenerator(**test_image_datagen_kwargs)\n",
    "test_image_datagen = ImageDataGenerator(**test_image_datagen_kwargs)"
   ]
  },
  {
   "cell_type": "code",
   "execution_count": null,
   "id": "fbc2daf4",
   "metadata": {},
   "outputs": [],
   "source": [
    "train_dataset = train_image_datagen.flow_from_dataframe(train_data, \n",
    "                                                        x_col = 'image_filepaths', \n",
    "                                                        y_col = 'tumor_class', \n",
    "                                                        seed = 42, \n",
    "                                                        batch_size = batch_size,\n",
    "                                                        target_size = (image_size, image_size),\n",
    "                                                        color_mode = 'rgb')\n",
    "\n",
    "val_dataset = val_image_datagen.flow_from_dataframe(val_data, \n",
    "                                                        x_col = 'image_filepaths', \n",
    "                                                        y_col = 'tumor_class', \n",
    "                                                        seed = 42, \n",
    "                                                        batch_size = batch_size,\n",
    "                                                        target_size = (image_size, image_size),\n",
    "                                                        color_mode = 'rgb')\n",
    "\n",
    "\n",
    "test_dataset = test_image_datagen.flow_from_dataframe(test_data, \n",
    "                                                      x_col = 'image_filepaths', \n",
    "                                                      y_col = 'tumor_class', \n",
    "                                                      seed = 42, \n",
    "                                                      batch_size = batch_size,\n",
    "                                                      target_size = (image_size, image_size),\n",
    "                                                      color_mode = 'rgb')"
   ]
  },
  {
   "cell_type": "code",
   "execution_count": null,
   "id": "d98d17a9",
   "metadata": {},
   "outputs": [],
   "source": [
    "early_stopping = EarlyStopping(monitor = 'val_accuracy', patience = 10)"
   ]
  },
  {
   "cell_type": "code",
   "execution_count": null,
   "id": "3e06f4c9",
   "metadata": {},
   "outputs": [],
   "source": [
    "base_model = VGG16(input_shape=(IMAGE_SIZE,IMAGE_SIZE,3), include_top=False, weights='imagenet') \n",
    "# Set all layers to non-trainable\n",
    "for layer in base_model.layers:  # loop through all layers in VGG16\n",
    "    layer.trainable = False    \n",
    "# Set the last vgg block to trainable\n",
    "base_model.layers[-2].trainable = True   #unfreeze the last 3 layers\n",
    "base_model.layers[-3].trainable = True\n",
    "base_model.layers[-4].trainable = True\n",
    "\n",
    "\n",
    "# build a custom model of VGG16\n",
    "model = Sequential()    \n",
    "model.add(Input(shape=(IMAGE_SIZE,IMAGE_SIZE,3))) # add input layer with the specified shape\n",
    "model.add(base_model) #Adds the pre-trained VGG16 base model to the model.\n",
    "model.add(Flatten())  #Flattens the output of the VGG16 base\n",
    "model.add(Dropout(0.3)) # Applies dropout with a rate of 0.3 to reduce overfitting.\n",
    "model.add(Dense(128, activation='relu')) # Adds a fully connected layer with 128 units and ReLU activation.\n",
    "model.add(Dropout(0.2)) # Applies another dropout with a rate of 0.2.\n",
    "model.add(Dense(len(unique_labels), activation='softmax')) #adds the final dense layer"
   ]
  },
  {
   "cell_type": "code",
   "execution_count": null,
   "id": "a835daaa",
   "metadata": {},
   "outputs": [],
   "source": [
    "model.compile(optimizer=Adam(learning_rate=0.0001),\n",
    "             loss='categorical_crossentropy',\n",
    "             metrics=['categorical_accuracy'])"
   ]
  },
  {
   "cell_type": "code",
   "execution_count": null,
   "id": "8422aa8a",
   "metadata": {},
   "outputs": [],
   "source": [
    "#with tf.device(gpu_device_location) if gpu_device_location else tpu_strategy.scope() if tpu_device_location else tf.device(cpu_device_location):\n",
    "train_history = model.fit(train_dataset,\n",
    "                          batch_size = batch_size,\n",
    "                          validation_data = val_dataset,\n",
    "                          epochs = 10, \n",
    "                          callbacks = [early_stopping])"
   ]
  },
  {
   "cell_type": "markdown",
   "id": "61221b23",
   "metadata": {},
   "source": [
    "## Data Generator"
   ]
  },
  {
   "cell_type": "markdown",
   "id": "7479e82f",
   "metadata": {},
   "source": [
    "- Given a list of paths to images, and the labels,\n",
    "- this function augments the images, normalizes them, encodes the label, and then returns the batch on which the model can train on."
   ]
  },
  {
   "cell_type": "code",
   "execution_count": null,
   "id": "c9144d3d",
   "metadata": {},
   "outputs": [],
   "source": [
    "unique_labels = ['glioma','meningioma','notumor','pituitary']#os.listdir(train_dir)\n",
    "\n",
    "\n",
    "def encode_label(labels): # encode for feeding to ML\n",
    "    encoded = []\n",
    "    for x in labels:\n",
    "        encoded.append(unique_labels.index(x)) \n",
    "    return np.array(encoded)\n",
    "\n",
    "def decode_label(labels):  #decode to be interpretation  \n",
    "    decoded = []\n",
    "    for x in labels:\n",
    "        decoded.append(unique_labels[x])\n",
    "    return np.array(decoded)\n",
    "\n",
    "def datagen(paths, labels, batch_size=12, epochs=1, aug=False): #use data generator to efficiently load and process data in baches during training\n",
    "    for _ in range(epochs):\n",
    "        for x in range(0, len(paths), batch_size):\n",
    "            batch_paths = paths[x:x+batch_size]\n",
    "            batch_images = open_images(batch_paths, aug=aug)\n",
    "            batch_labels = labels[x:x+batch_size]\n",
    "            batch_labels = encode_label(batch_labels)\n",
    "            yield batch_images, batch_labels"
   ]
  },
  {
   "cell_type": "markdown",
   "id": "598b57d9",
   "metadata": {},
   "source": [
    "- VGG is a CNN model, use for imgae classification task, conv layer --> max pooling layers --> deep structure\n",
    "\n",
    "- Fully connected layer(top layers) -> exclude (the top layerd are often task specific, not directly tailored to a specific requirnments)\n",
    "\n",
    "\n",
    "- Fearure Extraction: the low layer of pretrained model capture a general feature-> so useful for variety of task\n",
    "\n",
    "\n",
    "- by excluding the top layers, you can leverage the lower layer for feature extraction and add your own classification layers for new task"
   ]
  },
  {
   "cell_type": "markdown",
   "id": "8ba54a79",
   "metadata": {},
   "source": [
    "- Use VGG16 for transfer learning, \n",
    "\n",
    "- Transfer learning, using knowledge from pre-trained model to improve performance"
   ]
  },
  {
   "cell_type": "markdown",
   "id": "91d6dc69",
   "metadata": {},
   "source": [
    "- trainable = False, layer --> Frozen (the weight of that layers will not update during the training)\n",
    "\n",
    "- why? Reserving pre_Trained Knowledge,Reduce Training time, Avoiding overfitting\n",
    "\n",
    "- so froyzen layers, it's a common practice in transfer learning"
   ]
  },
  {
   "cell_type": "markdown",
   "id": "6a59b71b",
   "metadata": {},
   "source": [
    "## Model"
   ]
  },
  {
   "cell_type": "code",
   "execution_count": null,
   "id": "e87cde12",
   "metadata": {},
   "outputs": [],
   "source": [
    "base_model = VGG16(input_shape=(IMAGE_SIZE,IMAGE_SIZE,3), include_top=False, weights='imagenet') \n",
    "# Set all layers to non-trainable\n",
    "for layer in base_model.layers:  # loop through all layers in VGG16\n",
    "    layer.trainable = False    \n",
    "# Set the last vgg block to trainable\n",
    "base_model.layers[-2].trainable = True   #unfreeze the last 3 layers\n",
    "base_model.layers[-3].trainable = True\n",
    "base_model.layers[-4].trainable = True\n",
    "\n",
    "\n",
    "# build a custom model of VGG16\n",
    "model = Sequential()    \n",
    "model.add(Input(shape=(IMAGE_SIZE,IMAGE_SIZE,3))) # add input layer with the specified shape\n",
    "model.add(base_model) #Adds the pre-trained VGG16 base model to the model.\n",
    "model.add(Flatten())  #Flattens the output of the VGG16 base\n",
    "model.add(Dropout(0.3)) # Applies dropout with a rate of 0.3 to reduce overfitting.\n",
    "model.add(Dense(128, activation='relu')) # Adds a fully connected layer with 128 units and ReLU activation.\n",
    "model.add(Dropout(0.2)) # Applies another dropout with a rate of 0.2.\n",
    "model.add(Dense(len(unique_labels), activation='softmax')) #adds the final dense layer"
   ]
  },
  {
   "cell_type": "code",
   "execution_count": null,
   "id": "681482eb",
   "metadata": {},
   "outputs": [],
   "source": [
    "model.summary()"
   ]
  },
  {
   "cell_type": "code",
   "execution_count": null,
   "id": "774cf51c",
   "metadata": {},
   "outputs": [],
   "source": [
    "keras.utils.plot_model(model, show_shapes=True)"
   ]
  },
  {
   "cell_type": "code",
   "execution_count": null,
   "id": "1f711ada",
   "metadata": {},
   "outputs": [],
   "source": [
    "model.compile(optimizer=Adam(learning_rate=0.0001),\n",
    "             loss='sparse_categorical_crossentropy',\n",
    "             metrics=['sparse_categorical_accuracy'])"
   ]
  },
  {
   "cell_type": "code",
   "execution_count": null,
   "id": "ab3ddada",
   "metadata": {},
   "outputs": [],
   "source": [
    "%%time\n",
    "batch_size = 25\n",
    "steps = int(len(train_paths)/batch_size)\n",
    "epochs = 10\n",
    "history = model.fit(datagen(train_paths, train_labels, batch_size=batch_size, epochs=epochs, aug=True),epochs=epochs, steps_per_epoch=steps)\n"
   ]
  },
  {
   "cell_type": "code",
   "execution_count": null,
   "id": "5f5b3bc7",
   "metadata": {
    "scrolled": true
   },
   "outputs": [],
   "source": [
    "plt.figure(figsize=(8,4))\n",
    "plt.grid(True)\n",
    "plt.plot(history.history['sparse_categorical_accuracy'], '.g-', linewidth=2)\n",
    "plt.plot(history.history['loss'], '.r-', linewidth=2)\n",
    "plt.title('Model Training History')\n",
    "plt.xlabel('epoch')\n",
    "plt.xticks([x for x in range(epochs)])\n",
    "plt.legend(['Accuracy', 'Loss'], loc='upper left', bbox_to_anchor=(1, 1))\n",
    "plt.show()"
   ]
  },
  {
   "cell_type": "markdown",
   "id": "aa6f79c7",
   "metadata": {},
   "source": [
    "## Evaluate Model with test samples"
   ]
  },
  {
   "cell_type": "code",
   "execution_count": null,
   "id": "6aeff3d4",
   "metadata": {},
   "outputs": [],
   "source": [
    "batch_size = 32\n",
    "steps = int(len(test_paths)/batch_size)\n",
    "y_pred = []\n",
    "y_true = []\n",
    "for x, y in tqdm(datagen(test_paths, test_labels, batch_size=batch_size, epochs=1, aug=True), total=steps):\n",
    "    pred = model.predict(x)\n",
    "    pred = np.argmax(pred, axis=-1)\n",
    "    for i in decode_label(pred):\n",
    "        y_pred.append(i)\n",
    "    for i in decode_label(y):\n",
    "        y_true.append(i)"
   ]
  },
  {
   "cell_type": "code",
   "execution_count": null,
   "id": "7fae06ca",
   "metadata": {},
   "outputs": [],
   "source": [
    "test_paths"
   ]
  },
  {
   "cell_type": "code",
   "execution_count": null,
   "id": "2682c0b9",
   "metadata": {},
   "outputs": [],
   "source": [
    "# confusion_matrix\n",
    "\n",
    "conf_matrix = confusion_matrix(y_true, y_pred)\n",
    "print(conf_matrix)"
   ]
  },
  {
   "cell_type": "code",
   "execution_count": null,
   "id": "e5ef831b",
   "metadata": {},
   "outputs": [],
   "source": [
    "# Your confusion matrix data\n",
    "conf_matrix_data = np.array(conf_matrix)\n",
    "                            #[[27, 42, 29, 2],\n",
    "                            #[6, 88, 13, 8],\n",
    "                            #[4, 3, 98, 0],\n",
    "                            #[5, 10, 9, 50]])\n",
    "\n",
    "# Plotting the confusion matrix\n",
    "plt.figure(figsize=(6, 4))\n",
    "sns.heatmap(conf_matrix_data, annot=True, fmt='d', cmap='Blues', cbar=False,\n",
    "            xticklabels=unique_labels,\n",
    "            yticklabels=unique_labels)\n",
    "\n",
    "plt.xlabel('Predicted Label')\n",
    "plt.ylabel('True Label')\n",
    "plt.title('Confusion Matrix')\n",
    "plt.show()\n",
    "\n"
   ]
  },
  {
   "cell_type": "markdown",
   "id": "631d99fd",
   "metadata": {},
   "source": [
    "- The plot has the True labels on the y-axis and Predicted labels on the x-axis, as defined by the confusion_matrix function call.\n",
    "\n",
    "\n",
    "\n",
    "- For Glioma (Class 0): The model correctly identified 18 instances of Glioma (TP), but there were 82 instances misclassified as other classes ('meningioma', 'notumor', or 'pituitary').\n",
    "\n",
    "\n",
    "- For Meningioma (Class 1): The model correctly identified 114 instances of Meningioma (TP), and there was only 1 misclassification.\n",
    "\n",
    "\n",
    "\n",
    "- No Tumor (Class 2):The model correctly identified 104 instances of No Tumor (TP), and there was only 1 misclassification.\n",
    "\n",
    "\n",
    "\n",
    "- Pituitary (Class 3) : The model correctly identified 55 instances of Pituitary (TP), but there were 19 instances misclassified as other classes.\n",
    "\n",
    "\n",
    "\n",
    "- In conclusion, The model has a noticeable number of misclassifications, especially in the 'glioma' class (Class 0) and the 'pituitary' class (Class 3).\n",
    "\n",
    "\n",
    "\n",
    "- Further analysis, such as examining precision, recall, and F1-score for each class, could provide a more comprehensive evaluation of the model's strengths and weaknesses. Additionally, fine-tuning the model, adjusting hyperparameters, or using more advanced architectures may help improve performance.\n"
   ]
  },
  {
   "cell_type": "code",
   "execution_count": null,
   "id": "3b6d1ec4",
   "metadata": {},
   "outputs": [],
   "source": [
    "print(classification_report(y_true, y_pred))"
   ]
  },
  {
   "cell_type": "code",
   "execution_count": null,
   "id": "d0314c25",
   "metadata": {},
   "outputs": [],
   "source": [
    "# Save the VGG16 model\n",
    "save_path = 'C:\\\\Users\\\\tmost\\\\Documents\\\\Data-course\\\\Brain\\\\saved_models'\n",
    "model.save(os.path.join(save_path, 'vgg16_model.h5'))"
   ]
  },
  {
   "cell_type": "code",
   "execution_count": null,
   "id": "479b40ce",
   "metadata": {},
   "outputs": [],
   "source": [
    "FP =[]\n",
    "for i, y in enumerate(y_pred):\n",
    "    if y != y_true[i]:\n",
    "        FP.append(i)\n",
    "        \n",
    "FP_paths = []\n",
    "FP_labels = []\n",
    "\n",
    "\n",
    "for y in FP: \n",
    "    FP_paths.append(test_paths[y])\n",
    "    FP_labels.append(y_true[y]+'-'+y_pred[y])\n",
    "    "
   ]
  },
  {
   "cell_type": "code",
   "execution_count": null,
   "id": "4d4934c7",
   "metadata": {},
   "outputs": [],
   "source": [
    "IMAGE_SIZE = 128\n",
    "\n",
    "\n",
    "images = open_images(FP_paths[0:20])\n",
    "labels = FP_labels[0:20]\n",
    "fig = plt.figure(figsize=(12, 6))\n",
    "for x in range(1, 19):\n",
    "    fig.add_subplot(4, 6, x)\n",
    "    plt.axis('off')\n",
    "    plt.title(labels[x], fontsize=8)\n",
    "    plt.imshow(images[x])\n",
    "plt.rcParams.update({'font.size': 8})\n",
    "plt.show()"
   ]
  },
  {
   "cell_type": "code",
   "execution_count": null,
   "id": "ed7267a7",
   "metadata": {},
   "outputs": [],
   "source": [
    "import h5py\n",
    "mat_file = h5py.File(r'C:\\\\Users\\tmost\\Documents\\Data-course\\Brain\\brain_tumor_dataset\\cvind.mat')\n",
    "arrays = {}\n",
    "for k, v in mat_file.items():\n",
    "    arrays[k] = np.array(v)"
   ]
  },
  {
   "cell_type": "code",
   "execution_count": null,
   "id": "ea2bbc7b",
   "metadata": {},
   "outputs": [],
   "source": [
    "arrays"
   ]
  },
  {
   "cell_type": "code",
   "execution_count": null,
   "id": "9e5d2a0a",
   "metadata": {},
   "outputs": [],
   "source": []
  }
 ],
 "metadata": {
  "kernelspec": {
   "display_name": "Python 3 (ipykernel)",
   "language": "python",
   "name": "python3"
  },
  "language_info": {
   "codemirror_mode": {
    "name": "ipython",
    "version": 3
   },
   "file_extension": ".py",
   "mimetype": "text/x-python",
   "name": "python",
   "nbconvert_exporter": "python",
   "pygments_lexer": "ipython3",
   "version": "3.10.11"
  }
 },
 "nbformat": 4,
 "nbformat_minor": 5
}
