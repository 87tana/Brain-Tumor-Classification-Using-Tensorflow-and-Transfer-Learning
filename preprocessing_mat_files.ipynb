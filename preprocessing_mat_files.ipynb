{
 "cells": [
  {
   "cell_type": "code",
   "execution_count": 1,
   "metadata": {
    "colab": {
     "base_uri": "https://localhost:8080/"
    },
    "executionInfo": {
     "elapsed": 1957,
     "status": "ok",
     "timestamp": 1620936423326,
     "user": {
      "displayName": "Suraj Sharma",
      "photoUrl": "",
      "userId": "12348925451466739877"
     },
     "user_tz": -330
    },
    "id": "ORKWOdNtqIe2",
    "outputId": "46a9f80a-3d69-4c76-a304-7ff8dd2a3937"
   },
   "outputs": [
    {
     "name": "stderr",
     "output_type": "stream",
     "text": [
      "UsageError: Line magic function `%` not found.\n"
     ]
    }
   ],
   "source": [
    "import os\n",
    "import numpy as np\n",
    "import pandas as pd\n",
    "\n",
    "import h5py\n",
    "from matplotlib import pyplot as plt\n",
    "% matplotlib inline\n",
    "from matplotlib import rcParams\n",
    "import seaborn as sns\n",
    "from PIL import Image\n",
    "\n",
    "#from google.colab import files, drive\n",
    "#drive.mount('/content/gdrive')"
   ]
  },
  {
   "cell_type": "code",
   "execution_count": 2,
   "metadata": {
    "id": "F0vfuVcWqcZ9"
   },
   "outputs": [],
   "source": [
    "def mat_file_to_dict(filepath: str) -> dict:\n",
    "    tumor_class = {1: 'meningioma', 2: 'glioma', 3: 'pituitary_tumor'}\n",
    "    tumor_data_dict = {}\n",
    "    with h5py.File(filepath, mode = 'r') as image_data:\n",
    "        cjdata_struct = image_data['cjdata']\n",
    "        tumor_data_dict['class'] = tumor_class[int(cjdata_struct['label'][0, 0])]\n",
    "        tumor_data_dict['image'] = cjdata_struct['image'][:].transpose()\n",
    "        tumor_data_dict['tumor_border'] = cjdata_struct['tumorBorder'][0]\n",
    "        tumor_data_dict['tumor_mask'] = cjdata_struct['tumorMask'][:].transpose()\n",
    "    return tumor_data_dict"
   ]
  },
  {
   "cell_type": "code",
   "execution_count": 3,
   "metadata": {
    "id": "kI_0EWikrbTS"
   },
   "outputs": [],
   "source": [
    "def generate_img_from_mat(mat_file_data: dict) -> None:\n",
    "    plt.figure(figsize = (15, 7))\n",
    "    tumor_mri = plt.imshow(mat_file_data['image'], cmap = 'gray')\n",
    "    plt.axis('off')"
   ]
  },
  {
   "cell_type": "code",
   "execution_count": null,
   "metadata": {
    "colab": {
     "base_uri": "https://localhost:8080/",
     "output_embedded_package_id": "1C8yKrCQEV0OCyVFsEZj-oHNdXJamOAf-"
    },
    "executionInfo": {
     "elapsed": 11845,
     "status": "ok",
     "timestamp": 1617657060996,
     "user": {
      "displayName": "Suraj Sharma",
      "photoUrl": "",
      "userId": "12348925451466739877"
     },
     "user_tz": -330
    },
    "id": "suNRkCzkTK89",
    "outputId": "a63a4b92-08e8-4ad4-d887-830590e3c3f8"
   },
   "outputs": [],
   "source": [
    "rootpath_dataset = r'C:\\Users\\tmost\\Documents\\Data-course\\Brain\\brain_tumor_dataset'\n",
    "mat_dirname = 'brainTumorData'\n",
    "training_dir = os.path.join(rootpath_dataset, 'Training')\n",
    "\n",
    "m_count, g_count, p_count = (0, 0, 0)\n",
    "for root, dirpath, filenames in os.walk(os.path.join(rootpath_dataset, mat_dirname)):\n",
    "    for curr_file in filenames:\n",
    "        mri_img_data = mat_file_to_dict(os.path.join(root, curr_file))\n",
    "        tumor_class = mri_img_data['class']\n",
    "        generate_img_from_mat(mri_img_data)\n",
    "        if tumor_class == 'meningioma':\n",
    "            m_count += 1\n",
    "            m_path = os.path.join(training_dir, 'meningioma')\n",
    "            if not os.path.exists(m_path):\n",
    "                os.mkdir(m_path)\n",
    "            plt.savefig(os.path.join(m_path, f'M{m_count}.jpg'), dpi = 300, bbox_inches = 'tight', pad_inches = 0)\n",
    "        elif tumor_class == 'glioma':\n",
    "            g_count += 1\n",
    "            g_path = os.path.join(training_dir, 'glioma')\n",
    "            if not os.path.exists(g_path):\n",
    "                os.mkdir(g_path)\n",
    "            plt.savefig(os.path.join(g_path, f'G{g_count}.jpg'), dpi = 300, bbox_inches = 'tight', pad_inches = 0)\n",
    "        elif tumor_class == 'pituitary_tumor':\n",
    "            p_count += 1\n",
    "            p_path = os.path.join(training_dir, 'pituitary_tumor')\n",
    "            if not os.path.exists(p_path):\n",
    "                os.mkdir(p_path)\n",
    "            plt.savefig(os.path.join(p_path, f'P{p_count}.jpg'), dpi = 300, bbox_inches = 'tight', pad_inches = 0)\n",
    "        else:\n",
    "            pass\n",
    "        plt.close()"
   ]
  },
  {
   "cell_type": "code",
   "execution_count": null,
   "metadata": {
    "colab": {
     "background_save": true,
     "base_uri": "https://localhost:8080/",
     "output_embedded_package_id": "1-xrEZizL4Gyc3tA2Ipf6hJTLjELzsoXg"
    },
    "id": "9KtyiKGQV1HP",
    "outputId": "aed39905-f027-454d-a69a-7220b915b0dc"
   },
   "outputs": [],
   "source": [
    "rootpath_dataset = r'C:\\Users\\tmost\\Documents\\Data-course\\Brain\\brain_tumor_dataset'\n",
    "mat_dirname = 'brainTumorData'\n",
    "path_to_tumor_mask_dir = os.path.join(rootpath_dataset, \"Tumor-Mask\")\n",
    "\n",
    "m_count, g_count, p_count = (0, 0, 0)\n",
    "for root, dirpath, filenames in os.walk(os.path.join(rootpath_dataset, mat_dirname)):\n",
    "    for curr_file in filenames:\n",
    "        mri_img_data = mat_file_to_dict(os.path.join(root, curr_file))\n",
    "        tumor_class = mri_img_data['class']\n",
    "        plt.figure(figsize = (15, 7))\n",
    "        tumor_mri = plt.imshow(mri_img_data['tumor_mask'])\n",
    "        plt.axis('off')\n",
    "        if tumor_class == 'meningioma':\n",
    "            m_count += 1\n",
    "            m_path = os.path.join(path_to_tumor_mask_dir, 'meningioma')\n",
    "            if not os.path.exists(m_path):\n",
    "                os.mkdir(m_path)\n",
    "            plt.savefig(os.path.join(m_path, f'M{m_count}.jpg'), dpi = 300, bbox_inches = 'tight', pad_inches = 0)\n",
    "        elif tumor_class == 'glioma':\n",
    "            g_count += 1\n",
    "            g_path = os.path.join(path_to_tumor_mask_dir, 'glioma')\n",
    "            if not os.path.exists(g_path):\n",
    "                os.mkdir(g_path)\n",
    "            plt.savefig(os.path.join(g_path, f'G{g_count}.jpg'), dpi = 300, bbox_inches = 'tight', pad_inches = 0)\n",
    "        elif tumor_class == 'pituitary_tumor':\n",
    "            p_count += 1\n",
    "            p_path = os.path.join(path_to_tumor_mask_dir, 'pituitary_tumor')\n",
    "            if not os.path.exists(p_path):\n",
    "                os.mkdir(p_path)\n",
    "            plt.savefig(os.path.join(p_path, f'P{p_count}.jpg'), dpi = 300, bbox_inches = 'tight', pad_inches = 0)\n",
    "        else:\n",
    "            pass\n",
    "        plt.close()"
   ]
  },
  {
   "cell_type": "code",
   "execution_count": null,
   "metadata": {},
   "outputs": [],
   "source": []
  }
 ],
 "metadata": {
  "colab": {
   "authorship_tag": "ABX9TyNwSDFuMPEm/TsyuOO05bKN",
   "collapsed_sections": [],
   "name": "Preprocessing-Mat-File.ipynb",
   "provenance": []
  },
  "kernelspec": {
   "display_name": "Python 3 (ipykernel)",
   "language": "python",
   "name": "python3"
  },
  "language_info": {
   "codemirror_mode": {
    "name": "ipython",
    "version": 3
   },
   "file_extension": ".py",
   "mimetype": "text/x-python",
   "name": "python",
   "nbconvert_exporter": "python",
   "pygments_lexer": "ipython3",
   "version": "3.10.11"
  }
 },
 "nbformat": 4,
 "nbformat_minor": 1
}
